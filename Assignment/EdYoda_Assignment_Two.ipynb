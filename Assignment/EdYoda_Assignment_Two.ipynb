{
 "cells": [
  {
   "cell_type": "markdown",
   "id": "17382207",
   "metadata": {},
   "source": [
    "### 1.Write a Python program to get a list, sorted in increasing order by the last element in each tuple from a given list of non-empty tuples\n",
    "\n",
    "Sample List : [(2, 5), (1, 2), (4, 4), (2, 3), (2, 1)]\n",
    "\n",
    "Expected Result : [(2, 1), (1, 2), (2, 3), (4, 4), (2, 5)]"
   ]
  },
  {
   "cell_type": "code",
   "execution_count": 28,
   "id": "59c99c72",
   "metadata": {},
   "outputs": [
    {
     "name": "stdout",
     "output_type": "stream",
     "text": [
      "[(2, 1), (1, 2), (2, 3), (4, 4), (2, 5)]\n"
     ]
    }
   ],
   "source": [
    "given_list = [(2, 5), (1, 2), (4, 4), (2, 3), (2, 1)]\n",
    "storing_list, out_put = [], []\n",
    "for i in given_list:storing_list.append(i[-1])   \n",
    "storing_list = sorted(set(storing_list))\n",
    "for i in storing_list:\n",
    "    for k in given_list:\n",
    "        if i == k[-1]:\n",
    "            out_put.append(k)\n",
    "print(out_put)\n",
    "                   "
   ]
  },
  {
   "cell_type": "markdown",
   "id": "86ca923f",
   "metadata": {},
   "source": [
    "### 2.Write a Python program to print a dictionary whose keys should be the alphabet from a-z and the value should be corresponding ASCII values"
   ]
  },
  {
   "cell_type": "code",
   "execution_count": 13,
   "id": "da33c37e",
   "metadata": {},
   "outputs": [
    {
     "name": "stdout",
     "output_type": "stream",
     "text": [
      "{'a': 97, 'b': 98, 'c': 99, 'd': 100, 'e': 101, 'f': 102, 'g': 103, 'h': 104, 'i': 105, 'j': 106, 'k': 107, 'l': 108, 'm': 109, 'n': 110, 'o': 111, 'p': 112, 'q': 113, 'r': 114, 's': 115, 't': 116, 'u': 117, 'v': 118, 'w': 119, 'x': 120, 'y': 121, 'z': 122}\n"
     ]
    }
   ],
   "source": [
    "al_pha_bets = {}\n",
    "for char_store in range(97,123):\n",
    "    al_pha_bets [chr(char_store)] = char_store\n",
    "print(al_pha_bets)"
   ]
  }
 ],
 "metadata": {
  "kernelspec": {
   "display_name": "Python 3",
   "language": "python",
   "name": "python3"
  },
  "language_info": {
   "codemirror_mode": {
    "name": "ipython",
    "version": 3
   },
   "file_extension": ".py",
   "mimetype": "text/x-python",
   "name": "python",
   "nbconvert_exporter": "python",
   "pygments_lexer": "ipython3",
   "version": "3.8.8"
  }
 },
 "nbformat": 4,
 "nbformat_minor": 5
}
