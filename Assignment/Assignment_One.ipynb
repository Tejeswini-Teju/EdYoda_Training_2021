{
 "cells": [
  {
   "cell_type": "markdown",
   "id": "6141f3d1",
   "metadata": {},
   "source": [
    "### Q1) Write a Python program to get the Fibonacci series between 0 to 50"
   ]
  },
  {
   "cell_type": "code",
   "execution_count": null,
   "id": "ba906ebe",
   "metadata": {},
   "outputs": [],
   "source": [
    "first_num,second_num=0,1\n",
    "while second_num<=50:\n",
    "    print(second_num)\n",
    "    first_num,second_num=second_num,first_num+second_num"
   ]
  },
  {
   "cell_type": "markdown",
   "id": "f44d7d97",
   "metadata": {},
   "source": [
    "### Q2) Write a Python program that accepts a word from the user and reverse it."
   ]
  },
  {
   "cell_type": "code",
   "execution_count": null,
   "id": "7e15ffb9",
   "metadata": {},
   "outputs": [],
   "source": [
    "user_pro = input('Please Enter a Word :')\n",
    "print('Mirror Image of Word :', user_pro [::-1])"
   ]
  },
  {
   "cell_type": "markdown",
   "id": "27458b10",
   "metadata": {},
   "source": [
    "### Q3) Write a Python program to count the number of even and odd numbers from a series of numbers.¶"
   ]
  },
  {
   "cell_type": "code",
   "execution_count": null,
   "id": "3bf40e12",
   "metadata": {},
   "outputs": [],
   "source": [
    "series_tup = (1, 2, 3, 4, 5, 6, 7,8, 9)\n",
    "no_of_even,no_of_odd = 0 , 0\n",
    "for num_count in series_tup :\n",
    "    if num_count % 2 == 0:\n",
    "        no_of_even += 1\n",
    "    else:\n",
    "        no_of_odd  += 1     \n",
    "print('Total even numbers are :', no_of_even)\n",
    "print('Total odd numbers are :', no_of_odd )"
   ]
  }
 ],
 "metadata": {
  "kernelspec": {
   "display_name": "Python 3",
   "language": "python",
   "name": "python3"
  },
  "language_info": {
   "codemirror_mode": {
    "name": "ipython",
    "version": 3
   },
   "file_extension": ".py",
   "mimetype": "text/x-python",
   "name": "python",
   "nbconvert_exporter": "python",
   "pygments_lexer": "ipython3",
   "version": "3.8.8"
  }
 },
 "nbformat": 4,
 "nbformat_minor": 5
}
