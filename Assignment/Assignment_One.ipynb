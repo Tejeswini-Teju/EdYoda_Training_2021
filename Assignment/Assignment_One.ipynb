{
 "cells": [
  {
   "cell_type": "markdown",
   "id": "bb2ab15f",
   "metadata": {},
   "source": [
    "### Q1) Write a Python program to get the Fibonacci series between 0 to 50"
   ]
  },
  {
   "cell_type": "code",
   "execution_count": null,
   "id": "ec7c67bc",
   "metadata": {},
   "outputs": [],
   "source": [
    "first_num,second_num=0,1\n",
    "while second_num<=50:\n",
    "    print(second_num)\n",
    "    first_num,second_num=second_num,first_num+second_num"
   ]
  },
  {
   "cell_type": "markdown",
   "id": "7ba356c0",
   "metadata": {},
   "source": [
    "### Q2) Write a Python program that accepts a word from the user and reverse it."
   ]
  },
  {
   "cell_type": "code",
   "execution_count": null,
   "id": "e9bb2dfe",
   "metadata": {},
   "outputs": [],
   "source": [
    "user_pro = input('Please enter a word :')\n",
    "print('Reverse of the word is :', user_pro [::-1])"
   ]
  },
  {
   "cell_type": "markdown",
   "id": "29848be7",
   "metadata": {},
   "source": [
    "### Q3) Write a Python program to count the number of even and odd numbers from a series of numbers.¶"
   ]
  },
  {
   "cell_type": "code",
   "execution_count": null,
   "id": "a63753a7",
   "metadata": {},
   "outputs": [],
   "source": [
    "series_tup = (1, 2, 3, 4, 5, 6, 7, 8, 9)\n",
    "no_of_even = 0\n",
    "no_of_odd = 0\n",
    "for num_count in series_tup :\n",
    "    if num_count % 2 == 0:\n",
    "        no_of_even += 1\n",
    "    else:\n",
    "        no_of_odd  += 1\n",
    "        \n",
    "print('Total even numbers are :', no_of_even)\n",
    "print('Total odd numbers are :', no_of_odd )"
   ]
  }
 ],
 "metadata": {
  "kernelspec": {
   "display_name": "Python 3",
   "language": "python",
   "name": "python3"
  },
  "language_info": {
   "codemirror_mode": {
    "name": "ipython",
    "version": 3
   },
   "file_extension": ".py",
   "mimetype": "text/x-python",
   "name": "python",
   "nbconvert_exporter": "python",
   "pygments_lexer": "ipython3",
   "version": "3.8.8"
  }
 },
 "nbformat": 4,
 "nbformat_minor": 5
}
